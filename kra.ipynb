{
  "nbformat": 4,
  "nbformat_minor": 0,
  "metadata": {
    "colab": {
      "provenance": [],
      "authorship_tag": "ABX9TyMATrK7ZnAgSsIiSmgl4Rx+",
      "include_colab_link": true
    },
    "kernelspec": {
      "name": "python3",
      "display_name": "Python 3"
    },
    "language_info": {
      "name": "python"
    }
  },
  "cells": [
    {
      "cell_type": "markdown",
      "metadata": {
        "id": "view-in-github",
        "colab_type": "text"
      },
      "source": [
        "<a href=\"https://colab.research.google.com/github/alotofmilk/2nd-start/blob/master/kra.ipynb\" target=\"_parent\"><img src=\"https://colab.research.google.com/assets/colab-badge.svg\" alt=\"Open In Colab\"/></a>"
      ]
    },
    {
      "cell_type": "code",
      "execution_count": 22,
      "metadata": {
        "id": "ojEK8mb9FLKL"
      },
      "outputs": [],
      "source": [
        "import pandas as pd\n",
        "import numpy as np\n",
        "import matplotlib.pyplot as plt\n",
        "import seaborn as sns\n",
        "\n",
        "from sklearn.ensemble import RandomForestClassifier\n",
        "from sklearn.model_selection import train_test_split\n",
        "from sklearn.preprocessing import LabelEncoder\n",
        "from sklearn.metrics import classification_report, confusion_matrix\n"
      ]
    },
    {
      "cell_type": "code",
      "source": [
        "import glob\n",
        "path = \"/content/races/\"\n",
        "all_race_files = glob.glob(path + \"races_*.csv\")\n",
        "\n",
        "race_list = []\n",
        "for file in all_race_files:\n",
        "    df = pd.read_csv(file)\n",
        "    race_list.append(df)\n",
        "\n",
        "races_df = pd.concat(race_list, ignore_index=True)"
      ],
      "metadata": {
        "id": "LrmdGz37FdAA"
      },
      "execution_count": 23,
      "outputs": []
    },
    {
      "cell_type": "code",
      "source": [
        "path2 = \"/content/horses/\"\n",
        "\n",
        "all_horse_files = glob.glob(path2 + \"horses_*.csv\")\n",
        "\n",
        "horse_list = []\n",
        "for file in all_horse_files:\n",
        "    df = pd.read_csv(file, low_memory=False)\n",
        "    horse_list.append(df)\n",
        "\n",
        "horses_df = pd.concat(horse_list, ignore_index=True)"
      ],
      "metadata": {
        "id": "OVfaX44pJnt0"
      },
      "execution_count": 24,
      "outputs": []
    },
    {
      "cell_type": "code",
      "source": [
        "label_encoders = {}\n",
        "for col in horses_df.select_dtypes(include='object').columns:\n",
        "    le = LabelEncoder()\n",
        "    horses_df[col] = le.fit_transform(horses_df[col].astype(str))\n",
        "    label_encoders[col] = le\n",
        "\n",
        "horses_df = horses_df.dropna()"
      ],
      "metadata": {
        "id": "enKyRuZRKrwy"
      },
      "execution_count": 25,
      "outputs": []
    },
    {
      "cell_type": "code",
      "source": [
        "# 우승 요인 분석\n",
        "# 이건 그냥 rank 값이 1인거 추려내면 되니까 따로 더 손댈게 없슴동"
      ],
      "metadata": {
        "id": "G8jlRrHRNcib"
      },
      "execution_count": 26,
      "outputs": []
    },
    {
      "cell_type": "code",
      "source": [
        "horses_df['Win'] = (horses_df['position'] == 1).astype(int)"
      ],
      "metadata": {
        "id": "cfb9Z8wqLJ6i"
      },
      "execution_count": 27,
      "outputs": []
    },
    {
      "cell_type": "code",
      "source": [
        "# 흥행 요인 분석\n",
        "# 걍 제가 대략적으로 나눠본거긴 한데 방식이 크게 2가지가 될 수 있을 것 같아욤 ,,,,,,,,,,,\n",
        "# 혹시 아래에 적은 요인들말구 다른 컬럼을 기준으로도 분석해보고 싶으시다면 편하게 단톡에다 알려주세용"
      ],
      "metadata": {
        "id": "SRX6EmM1NskZ"
      },
      "execution_count": 41,
      "outputs": []
    },
    {
      "cell_type": "code",
      "source": [
        "# 1. 상금이 일정 금액 이상이면 흥행 경주로 판단 (컬럼: prize)\n",
        "races_df['Exciting_prize'] = (races_df['prize'] >= 10000).astype(int)"
      ],
      "metadata": {
        "id": "M_ROUL_mMH8S"
      },
      "execution_count": 29,
      "outputs": []
    },
    {
      "cell_type": "code",
      "source": [
        "print(races_df['prize'].describe())"
      ],
      "metadata": {
        "colab": {
          "base_uri": "https://localhost:8080/"
        },
        "id": "CIaqIyQ6NDpv",
        "outputId": "29dcfd96-970b-48f2-adb8-425704a319cc"
      },
      "execution_count": 30,
      "outputs": [
        {
          "output_type": "stream",
          "name": "stdout",
          "text": [
            "count    3.768640e+05\n",
            "mean     2.812907e+04\n",
            "std      1.247133e+05\n",
            "min      1.000000e+00\n",
            "25%      4.167750e+03\n",
            "50%      6.829000e+03\n",
            "75%      1.475700e+04\n",
            "max      1.503760e+07\n",
            "Name: prize, dtype: float64\n"
          ]
        }
      ]
    },
    {
      "cell_type": "code",
      "source": [
        "# 2. 타이틀에 국제, 챔피언십, 컵 등의 단어가 포함되면 흥행 경주로 판단 (컬럼: title 필터링)\n",
        "races_df['Exciting_title'] = races_df['title'].str.contains('Cup|Championship|International', case=False, na=False).astype(int)"
      ],
      "metadata": {
        "id": "y9SRswTDMrI0"
      },
      "execution_count": 42,
      "outputs": []
    },
    {
      "cell_type": "code",
      "source": [
        "# 두 가지 방식 각각 학습 진행하여 다각도로 분석했다 !! 는 점을 발표에서 어필하면 도움이 될 것 같아요\n",
        "# 1. target = prize 기준\n",
        "races_df_prize = races_df.copy()\n",
        "X = races_df_prize.drop(columns=['Exciting_prize', 'Exciting_class', 'Exciting_title', 'title', 'class', 'course', 'date'])\n",
        "y = races_df_prize['Exciting_prize']\n",
        "\n",
        "X_encoded = X.copy()\n",
        "for col in X_encoded.select_dtypes(include='object').columns:\n",
        "    X_encoded[col] = LabelEncoder().fit_transform(X_encoded[col].astype(str))\n",
        "\n",
        "X_train, X_test, y_train, y_test = train_test_split(X_encoded, y, test_size=0.2, random_state=42)\n",
        "\n",
        "model = RandomForestClassifier(n_estimators=100, random_state=42)\n",
        "model.fit(X_train, y_train)\n",
        "\n",
        "# 각각의 피쳐 별 중요도 시각화\n",
        "importances = model.feature_importances_\n",
        "features = X_encoded.columns\n",
        "\n",
        "feat_imp = pd.DataFrame({'Feature': features, 'Importance': importances})\n",
        "feat_imp = feat_imp.sort_values(by='Importance', ascending=False)\n",
        "\n",
        "sns.barplot(data=feat_imp.head(10), x='Importance', y='Feature')\n",
        "plt.title('Top Features for Exciting_prize')\n",
        "plt.show()"
      ],
      "metadata": {
        "colab": {
          "base_uri": "https://localhost:8080/",
          "height": 472
        },
        "id": "Lxu01o4kNN7W",
        "outputId": "16876358-2ff0-40be-985d-2a163854c4d4"
      },
      "execution_count": 43,
      "outputs": [
        {
          "output_type": "display_data",
          "data": {
            "text/plain": [
              "<Figure size 640x480 with 1 Axes>"
            ],
            "image/png": "[encoded data removed]"
          },
          "metadata": {}
        }
      ]
    },
    {
      "cell_type": "code",
      "source": [
        "# 2. target = title 기준\n",
        "races_df_title = races_df.copy()\n",
        "races_df_title['Exciting_title'] = races_df_title['title'].str.contains(\n",
        "    'Cup|Championship|International', case=False, na=False\n",
        ").astype(int)\n",
        "\n",
        "print(\"🔥 타이틀 기준 흥행 여부 분포:\")\n",
        "print(races_df_title['Exciting_title'].value_counts(normalize=True))"
      ],
      "metadata": {
        "colab": {
          "base_uri": "https://localhost:8080/"
        },
        "id": "vvu8cIWMSVCL",
        "outputId": "998536da-b3b1-425f-910b-3266fbd8fd26"
      },
      "execution_count": 44,
      "outputs": [
        {
          "output_type": "stream",
          "name": "stdout",
          "text": [
            "🔥 타이틀 기준 흥행 여부 분포:\n",
            "Exciting_title\n",
            "0    0.973067\n",
            "1    0.026933\n",
            "Name: proportion, dtype: float64\n"
          ]
        }
      ]
    },
    {
      "cell_type": "code",
      "source": [
        "# 모델이 불균형해서 언더샘플링 돌렸습니더\n",
        "X = races_df_title.drop(columns=['Exciting_title'], errors='ignore')\n",
        "y = races_df_title['Exciting_title']\n",
        "\n",
        "from sklearn.preprocessing import LabelEncoder\n",
        "\n",
        "X_encoded = X.copy()\n",
        "for col in X_encoded.select_dtypes(include='object').columns:\n",
        "    le = LabelEncoder()\n",
        "    X_encoded[col] = le.fit_transform(X_encoded[col].astype(str))\n",
        "\n",
        "from sklearn.utils import resample\n",
        "df_encoded = X_encoded.copy()\n",
        "df_encoded['target'] = y\n",
        "\n",
        "df_majority = df_encoded[df_encoded['target'] == 0]\n",
        "df_minority = df_encoded[df_encoded['target'] == 1]\n",
        "\n",
        "df_majority_downsampled = resample(\n",
        "    df_majority,\n",
        "    replace=False,\n",
        "    n_samples=len(df_minority),\n",
        "    random_state=42\n",
        ")\n",
        "\n",
        "df_balanced = pd.concat([df_majority_downsampled, df_minority])\n",
        "\n",
        "X_bal = df_balanced.drop(columns=['target'])\n",
        "y_bal = df_balanced['target']\n",
        "\n",
        "from sklearn.model_selection import train_test_split\n",
        "\n",
        "X_train, X_test, y_train, y_test = train_test_split(X_bal, y_bal, test_size=0.2, random_state=42)\n",
        "\n",
        "from sklearn.ensemble import RandomForestClassifier\n",
        "\n",
        "model = RandomForestClassifier(n_estimators=100, random_state=42)\n",
        "model.fit(X_train, y_train)\n",
        "\n",
        "from sklearn.metrics import classification_report\n",
        "\n",
        "y_pred = model.predict(X_test)\n",
        "\n",
        "print(\"📊 Classification Report (Exciting_title with undersampling):\")\n",
        "print(classification_report(y_test, y_pred))"
      ],
      "metadata": {
        "colab": {
          "base_uri": "https://localhost:8080/"
        },
        "id": "XeIvUx5QUqcX",
        "outputId": "3a2fef94-1554-468c-f147-5fde18e02e88"
      },
      "execution_count": 45,
      "outputs": [
        {
          "output_type": "stream",
          "name": "stdout",
          "text": [
            "📊 Classification Report (Exciting_title with undersampling):\n",
            "              precision    recall  f1-score   support\n",
            "\n",
            "           0       0.82      0.86      0.84      2141\n",
            "           1       0.85      0.81      0.83      2132\n",
            "\n",
            "    accuracy                           0.84      4273\n",
            "   macro avg       0.84      0.84      0.84      4273\n",
            "weighted avg       0.84      0.84      0.84      4273\n",
            "\n"
          ]
        }
      ]
    },
    {
      "cell_type": "code",
      "source": [
        "# 위와 같은 학습을 통해 accuracy 84%, F1-score 0.83 이상 확보"
      ],
      "metadata": {
        "id": "LAlaQrMBVi5L"
      },
      "execution_count": null,
      "outputs": []
    },
    {
      "cell_type": "code",
      "source": [
        "import matplotlib.pyplot as plt\n",
        "import seaborn as sns\n",
        "\n",
        "importances = model.feature_importances_\n",
        "features = X_bal.columns\n",
        "\n",
        "feat_imp = pd.DataFrame({\n",
        "    'Feature': features,\n",
        "    'Importance': importances\n",
        "})\n",
        "feat_imp = feat_imp.sort_values(by='Importance', ascending=False)\n",
        "\n",
        "# 상위 10개 시각화\n",
        "plt.figure(figsize=(10, 6))\n",
        "sns.barplot(data=feat_imp.head(10), x='Importance', y='Feature')\n",
        "plt.title('Top 10 Important Features for Exciting_title (Undersampled)')\n",
        "plt.xlabel('Feature Importance')\n",
        "plt.ylabel('Feature')\n",
        "plt.tight_layout()\n",
        "plt.show()"
      ],
      "metadata": {
        "colab": {
          "base_uri": "https://localhost:8080/",
          "height": 607
        },
        "id": "kyi3a63zVmDe",
        "outputId": "aa7d97a7-8e2a-405e-cada-dc209092ab37"
      },
      "execution_count": 46,
      "outputs": [
        {
          "output_type": "display_data",
          "data": {
            "text/plain": [
              "<Figure size 1000x600 with 1 Axes>"
            ],
            "image/png": "[encoded data removed]"
          },
          "metadata": {}
        }
      ]
    },
    {
      "cell_type": "code",
      "source": [
        "# 이로써 상금과 타이틀이 유의미한 상관관계를 지녔음이 증명됨!\n",
        "# 다시 약간 앞으로 돌아가서 '국제 경마에서 우리나라 말이 좋은 성적을 거두기 위해 필요한 핵심 요인은 무엇인가?' 에 집중해보겠습니더..."
      ],
      "metadata": {
        "id": "-yzOOUtpWbeD"
      },
      "execution_count": 47,
      "outputs": []
    },
    {
      "cell_type": "code",
      "source": [
        "horses_df_model = horses_df.copy()\n",
        "\n",
        "# 우승과 관련된 타겟 지표 생성\n",
        "horses_df_model['Win'] = (horses_df_model['position'] == 1).astype(int)"
      ],
      "metadata": {
        "id": "RYxp_izQWtgo"
      },
      "execution_count": 48,
      "outputs": []
    },
    {
      "cell_type": "code",
      "source": [
        "drop_cols = [\n",
        "    'Win',\n",
        "    'position',\n",
        "    'decimalPrice',\n",
        "    'margin',\n",
        "    'res_win',\n",
        "    'res_place',\n",
        "    'price',\n",
        "    'isFav',\n",
        "    'positionL'\n",
        "]"
      ],
      "metadata": {
        "id": "DMgFzetnXtql"
      },
      "execution_count": 52,
      "outputs": []
    },
    {
      "cell_type": "code",
      "source": [
        "X = horses_df_model.drop(columns=drop_cols, errors='ignore')\n",
        "y = horses_df_model['Win']\n",
        "\n",
        "from sklearn.preprocessing import LabelEncoder\n",
        "\n",
        "X_encoded = X.copy()\n",
        "for col in X_encoded.select_dtypes(include='object').columns:\n",
        "    le = LabelEncoder()\n",
        "    X_encoded[col] = le.fit_transform(X_encoded[col].astype(str))\n",
        "\n",
        "X_train, X_test, y_train, y_test = train_test_split(\n",
        "    X_encoded, y, test_size=0.2, random_state=42\n",
        ")\n",
        "\n",
        "model = RandomForestClassifier(n_estimators=100, class_weight='balanced', random_state=42)\n",
        "model.fit(X_train, y_train)\n",
        "\n",
        "y_pred = model.predict(X_test)\n",
        "\n",
        "print(\"🏆 Classification Report (우승 예측, 정제된 피처 기준):\")\n",
        "print(classification_report(y_test, y_pred))"
      ],
      "metadata": {
        "colab": {
          "base_uri": "https://localhost:8080/"
        },
        "id": "CjRQTK9lX-L4",
        "outputId": "7c98afa5-93a6-414b-ca2c-18e12285deca"
      },
      "execution_count": 54,
      "outputs": [
        {
          "output_type": "stream",
          "name": "stdout",
          "text": [
            "🏆 Classification Report (우승 예측, 정제된 피처 기준):\n",
            "              precision    recall  f1-score   support\n",
            "\n",
            "           0       0.95      0.99      0.97      1655\n",
            "           1       0.47      0.15      0.23       111\n",
            "\n",
            "    accuracy                           0.94      1766\n",
            "   macro avg       0.71      0.57      0.60      1766\n",
            "weighted avg       0.92      0.94      0.92      1766\n",
            "\n"
          ]
        }
      ]
    },
    {
      "cell_type": "code",
      "source": [
        "# accuracy 자체는 높은데 recall이 나빠서 좋은 성능이 아님\n",
        "# 얘도 언더샘플링 다시 해보기로\n",
        "\n",
        "from sklearn.utils import resample\n",
        "df_all = X_encoded.copy()\n",
        "df_all['Win'] = y\n",
        "\n",
        "df_major = df_all[df_all['Win'] == 0]  # 비우승\n",
        "df_minor = df_all[df_all['Win'] == 1]  # 우승\n",
        "\n",
        "df_major_down = resample(\n",
        "    df_major,\n",
        "    replace=False,\n",
        "    n_samples=len(df_minor),\n",
        "    random_state=42\n",
        ")\n",
        "\n",
        "df_balanced = pd.concat([df_major_down, df_minor])\n",
        "\n",
        "X_bal = df_balanced.drop(columns=['Win'])\n",
        "y_bal = df_balanced['Win']"
      ],
      "metadata": {
        "id": "oPFF9lVGYuWi"
      },
      "execution_count": 55,
      "outputs": []
    },
    {
      "cell_type": "code",
      "source": [
        "from sklearn.model_selection import train_test_split\n",
        "from sklearn.ensemble import RandomForestClassifier\n",
        "from sklearn.metrics import classification_report\n",
        "\n",
        "X_train, X_test, y_train, y_test = train_test_split(\n",
        "    X_bal, y_bal, test_size=0.2, random_state=42\n",
        ")\n",
        "\n",
        "model = RandomForestClassifier(n_estimators=100, random_state=42)\n",
        "model.fit(X_train, y_train)\n",
        "\n",
        "y_pred = model.predict(X_test)\n",
        "\n",
        "print(\"🏆 Classification Report (언더샘플링 적용):\")\n",
        "print(classification_report(y_test, y_pred))"
      ],
      "metadata": {
        "colab": {
          "base_uri": "https://localhost:8080/"
        },
        "id": "g6yutv1WZEoU",
        "outputId": "77890f24-3b63-4644-e5ae-fd15a52f930c"
      },
      "execution_count": 56,
      "outputs": [
        {
          "output_type": "stream",
          "name": "stdout",
          "text": [
            "🏆 Classification Report (언더샘플링 적용):\n",
            "              precision    recall  f1-score   support\n",
            "\n",
            "           0       0.99      0.95      0.97       104\n",
            "           1       0.95      0.99      0.97       102\n",
            "\n",
            "    accuracy                           0.97       206\n",
            "   macro avg       0.97      0.97      0.97       206\n",
            "weighted avg       0.97      0.97      0.97       206\n",
            "\n"
          ]
        }
      ]
    },
    {
      "cell_type": "code",
      "source": [
        "# accuracy 97%, recall도 유의미해짐!\n",
        "# 시각화\n",
        "\n",
        "import matplotlib.pyplot as plt\n",
        "import seaborn as sns\n",
        "import pandas as pd\n",
        "\n",
        "importances = model.feature_importances_\n",
        "features = X_bal.columns\n",
        "\n",
        "feat_imp = pd.DataFrame({'Feature': features, 'Importance': importances})\n",
        "feat_imp = feat_imp.sort_values(by='Importance', ascending=False)\n",
        "\n",
        "plt.figure(figsize=(10, 6))\n",
        "sns.barplot(data=feat_imp.head(10), x='Importance', y='Feature')\n",
        "plt.title('Top 10 Important Features for Win Prediction (Undersampled)')\n",
        "plt.tight_layout()\n",
        "plt.show()"
      ],
      "metadata": {
        "colab": {
          "base_uri": "https://localhost:8080/",
          "height": 607
        },
        "id": "vaIQfyE7ZUX_",
        "outputId": "bd2634bb-2785-44fb-bdf5-eaf60b822b03"
      },
      "execution_count": 57,
      "outputs": [
        {
          "output_type": "display_data",
          "data": {
            "text/plain": [
              "<Figure size 1000x600 with 1 Axes>"
            ],
            "image/png": "[encoded data removed]"
          },
          "metadata": {}
        }
      ]
    },
    {
      "cell_type": "code",
      "source": [
        "# 경기 거리(dist)가 압도적으로 중요하다는 결론이 도출됨\n",
        "# 즉, 우리나라 말이 특정 거리(예: 1200m, 1400m)에서 더 강하다면 그에 집중된 전략 필요\n",
        "# 또한, 전력지표와 조련사 등급? 조련사 평점??도 우승에 큰 영향을 미침"
      ],
      "metadata": {
        "id": "50QHlahCZwsJ"
      },
      "execution_count": 58,
      "outputs": []
    },
    {
      "cell_type": "code",
      "source": [
        "# 결론 !!\n",
        "# 흥행과 관련된 요인 : 상금 규모, 타이틀\n",
        "# 우승과 관련된 요인 : 경기 거리, Racing Post Rating (말 전력 지표), 조련사 실력"
      ],
      "metadata": {
        "id": "rtQaZ48BZ8qb"
      },
      "execution_count": 59,
      "outputs": []
    }
  ]
}